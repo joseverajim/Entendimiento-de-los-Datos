{
  "nbformat": 4,
  "nbformat_minor": 0,
  "metadata": {
    "colab": {
      "provenance": []
    },
    "kernelspec": {
      "name": "python3",
      "display_name": "Python 3"
    },
    "language_info": {
      "name": "python"
    }
  },
  "cells": [
    {
      "cell_type": "code",
      "execution_count": 15,
      "metadata": {
        "id": "mYagY4u4JR6_"
      },
      "outputs": [],
      "source": [
        "import pandas as pd\n",
        "import numpy as np\n",
        "from scipy import stats"
      ]
    },
    {
      "cell_type": "code",
      "source": [
        "# 1. Cargar dataset XLSX\n",
        "file_path = \"listings.csv.xlsx\"   # tu archivo real\n",
        "df = pd.read_excel(file_path, sheet_name=\"listings\")"
      ],
      "metadata": {
        "id": "8Zb9ck2WLpwy"
      },
      "execution_count": 13,
      "outputs": []
    },
    {
      "cell_type": "code",
      "source": [
        "# 2. Selección de 50 variables importantes\n",
        "selected_columns = [\n",
        "    \"id\",\"name\",\"description\",\"neighbourhood_cleansed\",\"latitude\",\"longitude\",\n",
        "    \"property_type\",\"room_type\",\"accommodates\",\"bathrooms\",\"bedrooms\",\"beds\",\"amenities\",\"price\",\n",
        "    \"minimum_nights\",\"maximum_nights\",\"availability_30\",\"availability_60\",\"availability_90\",\n",
        "    \"availability_365\",\"number_of_reviews\",\"number_of_reviews_ltm\",\"number_of_reviews_l30d\",\n",
        "    \"first_review\",\"last_review\",\"review_scores_rating\",\"review_scores_accuracy\",\n",
        "    \"review_scores_cleanliness\",\"review_scores_checkin\",\"review_scores_communication\",\n",
        "    \"review_scores_location\",\"review_scores_value\",\"reviews_per_month\",\n",
        "    \"host_id\",\"host_name\",\"host_since\",\"host_location\",\"host_response_time\",\n",
        "    \"host_response_rate\",\"host_acceptance_rate\",\"host_is_superhost\",\n",
        "    \"host_listings_count\",\"host_total_listings_count\",\"host_identity_verified\",\n",
        "    \"instant_bookable\",\"calculated_host_listings_count\",\n",
        "    \"calculated_host_listings_count_entire_homes\",\n",
        "    \"calculated_host_listings_count_private_rooms\",\n",
        "    \"calculated_host_listings_count_shared_rooms\",\"estimated_occupancy_l365d\",\"estimated_revenue_l365d\"\n",
        "]\n",
        "\n",
        "df_selected = df[selected_columns]"
      ],
      "metadata": {
        "id": "MWxjk9dfNfNy"
      },
      "execution_count": 16,
      "outputs": []
    },
    {
      "cell_type": "code",
      "source": [
        "# 3. Guardar CSV filtrado (para entregar)\n",
        "df_selected.to_csv(\"Ciudad_Pais.csv\", index=False)"
      ],
      "metadata": {
        "id": "W82JChaMN2TY"
      },
      "execution_count": 18,
      "outputs": []
    },
    {
      "cell_type": "code",
      "source": [
        "# 4. Diccionario con traducción y descripción (lo guardamos en un CSV auxiliar)\n",
        "traduccion = {\n",
        "    \"id\": \"Identificador único del anuncio\",\n",
        "    \"name\": \"Nombre del anuncio\",\n",
        "    \"description\": \"Descripción del alojamiento\",\n",
        "    \"neighbourhood_cleansed\": \"Barrio estandarizado\",\n",
        "    \"latitude\": \"Latitud\",\n",
        "    \"longitude\": \"Longitud\",\n",
        "    \"property_type\": \"Tipo de propiedad\",\n",
        "    \"room_type\": \"Tipo de habitación\",\n",
        "    \"accommodates\": \"Capacidad de huéspedes\",\n",
        "    \"bathrooms\": \"Número de baños\",\n",
        "    \"bedrooms\": \"Número de habitaciones\",\n",
        "    \"beds\": \"Número de camas\",\n",
        "    \"amenities\": \"Lista de amenidades\",\n",
        "    \"price\": \"Precio por noche\",\n",
        "    \"minimum_nights\": \"Noches mínimas\",\n",
        "    \"maximum_nights\": \"Noches máximas\",\n",
        "    \"availability_30\": \"Disponibilidad en 30 días\",\n",
        "    \"availability_60\": \"Disponibilidad en 60 días\",\n",
        "    \"availability_90\": \"Disponibilidad en 90 días\",\n",
        "    \"availability_365\": \"Disponibilidad en 365 días\",\n",
        "    \"number_of_reviews\": \"Número total de reseñas\",\n",
        "    \"number_of_reviews_ltm\": \"Reseñas últimos 12 meses\",\n",
        "    \"number_of_reviews_l30d\": \"Reseñas últimos 30 días\",\n",
        "    \"first_review\": \"Fecha primera reseña\",\n",
        "    \"last_review\": \"Fecha última reseña\",\n",
        "    \"review_scores_rating\": \"Calificación general\",\n",
        "    \"review_scores_accuracy\": \"Calificación de exactitud\",\n",
        "    \"review_scores_cleanliness\": \"Calificación de limpieza\",\n",
        "    \"review_scores_checkin\": \"Calificación en check-in\",\n",
        "    \"review_scores_communication\": \"Calificación comunicación\",\n",
        "    \"review_scores_location\": \"Calificación ubicación\",\n",
        "    \"review_scores_value\": \"Calificación valor\",\n",
        "    \"reviews_per_month\": \"Reseñas por mes\",\n",
        "    \"host_id\": \"ID del anfitrión\",\n",
        "    \"host_name\": \"Nombre del anfitrión\",\n",
        "    \"host_since\": \"Anfitrión desde\",\n",
        "    \"host_location\": \"Ubicación anfitrión\",\n",
        "    \"host_response_time\": \"Tiempo de respuesta\",\n",
        "    \"host_response_rate\": \"Tasa de respuesta\",\n",
        "    \"host_acceptance_rate\": \"Tasa de aceptación\",\n",
        "    \"host_is_superhost\": \"¿Superhost?\",\n",
        "    \"host_listings_count\": \"Cantidad de anuncios\",\n",
        "    \"host_total_listings_count\": \"Total anuncios\",\n",
        "    \"host_identity_verified\": \"Identidad verificada\",\n",
        "    \"instant_bookable\": \"Reserva instantánea\",\n",
        "    \"calculated_host_listings_count\": \"Total calculado de anuncios\",\n",
        "    \"calculated_host_listings_count_entire_homes\": \"Casas completas\",\n",
        "    \"calculated_host_listings_count_private_rooms\": \"Habitaciones privadas\",\n",
        "    \"calculated_host_listings_count_shared_rooms\": \"Habitaciones compartidas\",\n",
        "    \"estimated_occupancy_l365d\": \"Ocupación últimos 365 días\",\n",
        "    \"estimated_revenue_l365d\": \"Ingresos últimos 365 días\"\n",
        "}\n",
        "\n",
        "# Convertir a DataFrame para exportar\n",
        "df_traduccion = pd.DataFrame(list(traduccion.items()), columns=[\"Variable\", \"Descripcion\"])\n",
        "df_traduccion.to_csv(\"Traduccion_Variables.csv\", index=False)"
      ],
      "metadata": {
        "id": "GDAceXsnN-36"
      },
      "execution_count": 19,
      "outputs": []
    }
  ]
}